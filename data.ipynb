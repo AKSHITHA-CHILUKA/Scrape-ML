{
 "cells": [
  {
   "cell_type": "markdown",
   "metadata": {},
   "source": [
    "Train merge file"
   ]
  },
  {
   "cell_type": "code",
   "execution_count": 1,
   "metadata": {},
   "outputs": [],
   "source": [
    "import os\n",
    "import pandas as pd"
   ]
  },
  {
   "cell_type": "code",
   "execution_count": 15,
   "metadata": {},
   "outputs": [],
   "source": [
    "# Path to the train folder containing positive and negative review files\n",
    "train_folder = \"C:/Users/HP/Desktop/Scrape-ML/data_scrapped/train/\""
   ]
  },
  {
   "cell_type": "code",
   "execution_count": 16,
   "metadata": {},
   "outputs": [],
   "source": [
    "# Initialize lists to store review texts and their corresponding sentiment labels\n",
    "reviews = []\n",
    "sentiments = []\n"
   ]
  },
  {
   "cell_type": "code",
   "execution_count": 17,
   "metadata": {},
   "outputs": [],
   "source": [
    "\n",
    "# Read positive reviews\n",
    "pos_folder = os.path.join(train_folder, \"pos\")\n",
    "for filename in os.listdir(pos_folder):\n",
    "    with open(os.path.join(pos_folder, filename), \"r\", encoding=\"latin1\") as file:\n",
    "        review_text = file.read()\n",
    "        reviews.append(review_text)\n",
    "        sentiments.append(\"Positive\")"
   ]
  },
  {
   "cell_type": "code",
   "execution_count": 18,
   "metadata": {},
   "outputs": [],
   "source": [
    "# Read negative reviews\n",
    "neg_folder = os.path.join(train_folder, \"neg\")\n",
    "for filename in os.listdir(neg_folder):\n",
    "    with open(os.path.join(neg_folder, filename), \"r\", encoding=\"latin1\") as file:\n",
    "        review_text = file.read()\n",
    "        reviews.append(review_text)\n",
    "        sentiments.append(\"Negative\")"
   ]
  },
  {
   "cell_type": "code",
   "execution_count": 6,
   "metadata": {},
   "outputs": [],
   "source": [
    "\n",
    "# Read unsupervise reviews\n",
    "neg_folder = os.path.join(train_folder, \"unsup\")\n",
    "for filename in os.listdir(neg_folder):\n",
    "    with open(os.path.join(neg_folder, filename), \"r\", encoding=\"latin1\") as file:\n",
    "        review_text = file.read()\n",
    "        reviews.append(review_text)\n",
    "        sentiments.append(\"Unsupervise\")\n"
   ]
  },
  {
   "cell_type": "code",
   "execution_count": 19,
   "metadata": {},
   "outputs": [],
   "source": [
    "# Create a DataFrame from the lists\n",
    "df = pd.DataFrame({\"Review\": reviews, \"Sentiment\": sentiments})"
   ]
  },
  {
   "cell_type": "code",
   "execution_count": 20,
   "metadata": {},
   "outputs": [],
   "source": [
    "# Save the DataFrame to a CSV file\n",
    "df.to_csv(\"C:/Users/HP/Desktop/Scrape-ML/data_scrapped/Data-train.csv\", index=False)"
   ]
  },
  {
   "cell_type": "markdown",
   "metadata": {},
   "source": [
    "Testing Merge File"
   ]
  },
  {
   "cell_type": "code",
   "execution_count": 22,
   "metadata": {},
   "outputs": [],
   "source": [
    "# Path to the train folder containing positive and negative review files\n",
    "train_folder = \"C:/Users/HP/Desktop/Scrape-ML/data_scrapped/test/\""
   ]
  },
  {
   "cell_type": "code",
   "execution_count": 23,
   "metadata": {},
   "outputs": [],
   "source": [
    "# Initialize lists to store review texts and their corresponding sentiment labels\n",
    "reviews = []\n",
    "sentiments = []\n"
   ]
  },
  {
   "cell_type": "code",
   "execution_count": 24,
   "metadata": {},
   "outputs": [],
   "source": [
    "\n",
    "# Read positive reviews\n",
    "pos_folder = os.path.join(train_folder, \"pos\")\n",
    "for filename in os.listdir(pos_folder):\n",
    "    with open(os.path.join(pos_folder, filename), \"r\", encoding=\"latin1\") as file:\n",
    "        review_text = file.read()\n",
    "        reviews.append(review_text)\n",
    "        sentiments.append(\"Positive\")"
   ]
  },
  {
   "cell_type": "code",
   "execution_count": 25,
   "metadata": {},
   "outputs": [],
   "source": [
    "# Read negative reviews\n",
    "neg_folder = os.path.join(train_folder, \"neg\")\n",
    "for filename in os.listdir(neg_folder):\n",
    "    with open(os.path.join(neg_folder, filename), \"r\", encoding=\"latin1\") as file:\n",
    "        review_text = file.read()\n",
    "        reviews.append(review_text)\n",
    "        sentiments.append(\"Negative\")"
   ]
  },
  {
   "cell_type": "code",
   "execution_count": 26,
   "metadata": {},
   "outputs": [],
   "source": [
    "# Create a DataFrame from the lists\n",
    "df = pd.DataFrame({\"Review\": reviews, \"Sentiment\": sentiments})"
   ]
  },
  {
   "cell_type": "code",
   "execution_count": 27,
   "metadata": {},
   "outputs": [],
   "source": [
    "# Save the DataFrame to a CSV file\n",
    "df.to_csv(\"./data_scrapped/Data-test.csv\", index=False)"
   ]
  }
 ],
 "metadata": {
  "kernelspec": {
   "display_name": "tf",
   "language": "python",
   "name": "python3"
  },
  "language_info": {
   "codemirror_mode": {
    "name": "ipython",
    "version": 3
   },
   "file_extension": ".py",
   "mimetype": "text/x-python",
   "name": "python",
   "nbconvert_exporter": "python",
   "pygments_lexer": "ipython3",
   "version": "3.10.13"
  }
 },
 "nbformat": 4,
 "nbformat_minor": 2
}
